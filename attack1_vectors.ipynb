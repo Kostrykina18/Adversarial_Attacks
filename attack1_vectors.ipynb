{
 "cells": [
  {
   "cell_type": "code",
   "execution_count": 67,
   "metadata": {},
   "outputs": [
    {
     "name": "stdout",
     "output_type": "stream",
     "text": [
      "Collecting pymystem3\n",
      "  Downloading pymystem3-0.2.0-py3-none-any.whl (10 kB)\n",
      "Requirement already satisfied: requests in /Users/ekostrykina/opt/anaconda3/lib/python3.8/site-packages (from pymystem3) (2.24.0)\n",
      "Requirement already satisfied: certifi>=2017.4.17 in /Users/ekostrykina/opt/anaconda3/lib/python3.8/site-packages (from requests->pymystem3) (2020.6.20)\n",
      "Collecting urllib3!=1.25.0,!=1.25.1,<1.26,>=1.21.1\n",
      "  Using cached urllib3-1.25.11-py2.py3-none-any.whl (127 kB)\n",
      "Requirement already satisfied: idna<3,>=2.5 in /Users/ekostrykina/opt/anaconda3/lib/python3.8/site-packages (from requests->pymystem3) (2.10)\n",
      "Requirement already satisfied: chardet<4,>=3.0.2 in /Users/ekostrykina/opt/anaconda3/lib/python3.8/site-packages (from requests->pymystem3) (3.0.4)\n",
      "Installing collected packages: pymystem3, urllib3\n",
      "  Attempting uninstall: urllib3\n",
      "    Found existing installation: urllib3 1.26.7\n",
      "    Uninstalling urllib3-1.26.7:\n",
      "\u001b[31mERROR: Could not install packages due to an EnvironmentError: [Errno 13] Permission denied: 'RECORD'\n",
      "Consider using the `--user` option or check the permissions.\n",
      "\u001b[0m\n"
     ]
    }
   ],
   "source": [
    "!pip install pymystem3"
   ]
  },
  {
   "cell_type": "code",
   "execution_count": 277,
   "metadata": {},
   "outputs": [
    {
     "name": "stderr",
     "output_type": "stream",
     "text": [
      "[nltk_data] Downloading package punkt to\n",
      "[nltk_data]     /Users/ekostrykina/nltk_data...\n",
      "[nltk_data]   Package punkt is already up-to-date!\n"
     ]
    }
   ],
   "source": [
    "import re\n",
    "import numpy as np\n",
    "import pandas as pd\n",
    "import requests\n",
    "import jsonlines\n",
    "import random\n",
    "\n",
    "import gensim\n",
    "\n",
    "from pymystem3 import Mystem\n",
    "\n",
    "import pymorphy2\n",
    "m = pymorphy2.MorphAnalyzer()\n",
    "\n",
    "import nltk\n",
    "nltk.download('punkt')\n",
    "from nltk.tokenize import word_tokenize\n",
    "\n",
    "import string\n",
    "from string import punctuation\n",
    "\n",
    "from tqdm.notebook import tqdm"
   ]
  },
  {
   "cell_type": "code",
   "execution_count": 278,
   "metadata": {},
   "outputs": [],
   "source": [
    "def get_data(filename):\n",
    "    data = []\n",
    "    with jsonlines.open(f'TERRa/{filename}.jsonl') as reader:\n",
    "        for obj in reader:\n",
    "            data.append(obj)\n",
    "    return pd.DataFrame(data)"
   ]
  },
  {
   "cell_type": "code",
   "execution_count": 279,
   "metadata": {},
   "outputs": [],
   "source": [
    "val_df = get_data('val')"
   ]
  },
  {
   "cell_type": "code",
   "execution_count": 63,
   "metadata": {},
   "outputs": [
    {
     "name": "stdout",
     "output_type": "stream",
     "text": [
      "{'A': 'ADJ', 'ADV': 'ADV', 'ADVPRO': 'ADV', 'ANUM': 'ADJ', 'APRO': 'DET', 'COM': 'ADJ', 'CONJ': 'SCONJ', 'INTJ': 'INTJ', 'NONLEX': 'X', 'NUM': 'NUM', 'PART': 'PART', 'PR': 'ADP', 'S': 'NOUN', 'SPRO': 'PRON', 'UNKN': 'X', 'V': 'VERB'}\n"
     ]
    }
   ],
   "source": [
    "url = 'https://raw.githubusercontent.com/akutuzov/universal-pos-tags/4653e8a9154e93fe2f417c7fdb7a357b7d6ce333/ru-rnc.map'\n",
    "\n",
    "mapping = {}\n",
    "r = requests.get(url, stream=True)\n",
    "for pair in r.text.split('\\n'):\n",
    "    pair = re.sub('\\s+', ' ', pair, flags=re.U).split(' ')\n",
    "    if len(pair) > 1:\n",
    "        mapping[pair[0]] = pair[1]\n",
    "\n",
    "print(mapping)"
   ]
  },
  {
   "cell_type": "code",
   "execution_count": 64,
   "metadata": {},
   "outputs": [],
   "source": [
    "def tag_mystem(text):  \n",
    "    m = Mystem()\n",
    "    processed = m.analyze(text)\n",
    "    tagged = []\n",
    "    for w in processed:\n",
    "        try:\n",
    "            lemma = w[\"analysis\"][0][\"lex\"].lower().strip()\n",
    "            pos = w[\"analysis\"][0][\"gr\"].split(',')[0]\n",
    "            pos = pos.split('=')[0].strip()\n",
    "            if pos in mapping:\n",
    "                tagged.append(lemma + '_' + mapping[pos]) # здесь мы конвертируем тэги\n",
    "            else:\n",
    "                tagged.append(lemma + '_X') # на случай, если попадется тэг, которого нет в маппинге\n",
    "        except KeyError:\n",
    "            continue # я здесь пропускаю знаки препинания, но вы можете поступить по-другому\n",
    "    return tagged"
   ]
  },
  {
   "cell_type": "code",
   "execution_count": 13,
   "metadata": {},
   "outputs": [],
   "source": [
    "m_wv = \"220/model.bin\"\n",
    "model = gensim.models.KeyedVectors.load_word2vec_format(m_wv, binary=True, unicode_errors='ignore')"
   ]
  },
  {
   "cell_type": "code",
   "execution_count": 352,
   "metadata": {},
   "outputs": [
    {
     "name": "stderr",
     "output_type": "stream",
     "text": [
      "<ipython-input-352-074468d7233b>:6: DeprecationWarning: Call to deprecated `init_sims` (Use fill_norms() instead. See https://github.com/RaRe-Technologies/gensim/wiki/Migrating-from-Gensim-3.x-to-4).\n",
      "  w2v.init_sims(replace=True)\n"
     ]
    },
    {
     "name": "stdout",
     "output_type": "stream",
     "text": [
      "парламентарий_NOUN 0.5742719173431396\n",
      "нардеп_NOUN 0.5596699714660645\n",
      "депутат_PROPN 0.4610869884490967\n",
      "яблочник_NOUN 0.45993927121162415\n",
      "единоросс_NOUN 0.45825690031051636\n"
     ]
    }
   ],
   "source": [
    "from gensim.models import KeyedVectors\n",
    "\n",
    "w2v_fpath = \"news_upos_cbow_600_2_2018.vec\"\n",
    "\n",
    "w2v = KeyedVectors.load_word2vec_format(w2v_fpath, binary=False, unicode_errors='ignore')\n",
    "w2v.init_sims(replace=True)\n",
    "\n",
    "for word, score in w2v.most_similar(positive=[\"депутат_NOUN\"], topn=5):\n",
    "    print(word, score)"
   ]
  },
  {
   "cell_type": "code",
   "execution_count": 353,
   "metadata": {},
   "outputs": [],
   "source": [
    "def synonym_attack(sentence):\n",
    "    #выбираем слово\n",
    "    text = word_tokenize(sentence)\n",
    "    positions = [i for i in range(len(text))]\n",
    "\n",
    "    while len(positions)>=1:\n",
    "        position = random.choice(positions)\n",
    "        positions.remove(position)\n",
    "        word = text[position]\n",
    "\n",
    "        while word in punctuation and len(positions)>=1:\n",
    "            position = random.choice(positions)\n",
    "            positions.remove(position)\n",
    "            word = text[position]\n",
    "        # сохраняем информацию о слове\n",
    "        #m.parse(word)[0].tag.POS\n",
    "        parsed_word = m.parse(word)[0]\n",
    "        gender = parsed_word.tag.gender\n",
    "        number = parsed_word.tag.number\n",
    "        case = parsed_word.tag.case\n",
    "\n",
    "        #находим синоним\n",
    "        try:\n",
    "            synonyme = w2v.most_similar(positive=tag_mystem(word), topn=1)[0][0]\n",
    "            synonyme = synonyme.split('_')[0]\n",
    "\n",
    "            # возвращаем грамматику\n",
    "            inflected = synonyme\n",
    "            try:\n",
    "                inflected = m.parse(inflected)[0].inflect({gender})\n",
    "            except:\n",
    "                pass \n",
    "\n",
    "            try:\n",
    "                if type(inflected) is str:\n",
    "                    inflected = m.parse(inflected)[0].inflect({case})\n",
    "                else:\n",
    "                    inflected = m.parse(inflected.word)[0].inflect({case})\n",
    "            except:\n",
    "                pass\n",
    "\n",
    "            try:\n",
    "                if type(inflected) is str:\n",
    "                    inflected = m.parse(inflected)[0].inflect({number})\n",
    "                else:\n",
    "                    inflected = m.parse(inflected.word)[0].inflect({number})\n",
    "            except:\n",
    "                pass\n",
    "\n",
    "            synonyme_word = inflected.word\n",
    "        except:\n",
    "            continue\n",
    "        if text[position] != synonyme_word:\n",
    "            text[position] = synonyme_word\n",
    "            text = ' '.join(text)\n",
    "\n",
    "            # удаляем лишние пробелы\n",
    "            pat = \"\\s+([{}]+)\".format(re.escape(string.punctuation))\n",
    "            output_text = re.sub(\"\\s{2,}\", \" \", re.sub(pat, r\"\\1\", text))\n",
    "            return output_text, True, word, synonyme_word\n",
    "    return sentence, False, None, None"
   ]
  },
  {
   "cell_type": "code",
   "execution_count": 354,
   "metadata": {
    "scrolled": true
   },
   "outputs": [
    {
     "data": {
      "text/plain": [
       "('Красивая девочка, эффектная кошка и собака.', True, 'красивая', 'эффектная')"
      ]
     },
     "execution_count": 354,
     "metadata": {},
     "output_type": "execute_result"
    }
   ],
   "source": [
    "synonym_attack('Красивая девочка, красивая кошка и собака.')"
   ]
  },
  {
   "cell_type": "code",
   "execution_count": 306,
   "metadata": {
    "scrolled": true
   },
   "outputs": [
    {
     "data": {
      "text/plain": [
       "('Красивая девочка, красивая собака и собака.', True, 'кошка', 'собака')"
      ]
     },
     "execution_count": 306,
     "metadata": {},
     "output_type": "execute_result"
    }
   ],
   "source": [
    "synonym_attack('Красивая девочка, красивая кошка и собака.')"
   ]
  },
  {
   "cell_type": "code",
   "execution_count": 363,
   "metadata": {},
   "outputs": [
    {
     "data": {
      "text/plain": [
       "('а о и', False, None, None)"
      ]
     },
     "execution_count": 363,
     "metadata": {},
     "output_type": "execute_result"
    }
   ],
   "source": [
    "synonym_attack('а о и')"
   ]
  },
  {
   "cell_type": "code",
   "execution_count": 288,
   "metadata": {},
   "outputs": [
    {
     "name": "stdout",
     "output_type": "stream",
     "text": [
      "красивая\n"
     ]
    },
    {
     "data": {
      "text/plain": [
       "('Красивая девочка, прекрасная кошка и собака.',\n",
       " True,\n",
       " 'красивая',\n",
       " 'прекрасная')"
      ]
     },
     "execution_count": 288,
     "metadata": {},
     "output_type": "execute_result"
    }
   ],
   "source": [
    "synonym_attack('Красивая девочка, красивая кошка и собака.')"
   ]
  },
  {
   "cell_type": "code",
   "execution_count": 364,
   "metadata": {},
   "outputs": [
    {
     "data": {
      "application/vnd.jupyter.widget-view+json": {
       "model_id": "0b8a0c372cc2498685f3232c8883ea96",
       "version_major": 2,
       "version_minor": 0
      },
      "text/plain": [
       "  0%|          | 0/307 [00:00<?, ?it/s]"
      ]
     },
     "metadata": {},
     "output_type": "display_data"
    }
   ],
   "source": [
    "attacked_data = []\n",
    "flags = []\n",
    "original_words = []\n",
    "inflected_words = []\n",
    "\n",
    "for i in tqdm(val_df['hypothesis']):\n",
    "    sentence, flag, original_word, inflected_word = synonym_attack(i)\n",
    "    attacked_data.append(sentence)\n",
    "    flags.append(flag)\n",
    "    original_words.append(original_word)\n",
    "    inflected_words.append(inflected_word)"
   ]
  },
  {
   "cell_type": "code",
   "execution_count": 365,
   "metadata": {},
   "outputs": [
    {
     "data": {
      "text/plain": [
       "301"
      ]
     },
     "execution_count": 365,
     "metadata": {},
     "output_type": "execute_result"
    }
   ],
   "source": [
    "sum(flags)"
   ]
  },
  {
   "cell_type": "code",
   "execution_count": 366,
   "metadata": {},
   "outputs": [],
   "source": [
    "val_df['original_hypothesis'] = val_df['hypothesis']\n",
    "val_df['hypothesis'] = attacked_data\n",
    "val_df['flags'] = flags\n",
    "val_df['original_words'] = original_words\n",
    "val_df['inflected_words'] = inflected_words"
   ]
  },
  {
   "cell_type": "code",
   "execution_count": 367,
   "metadata": {},
   "outputs": [
    {
     "data": {
      "text/html": [
       "<div>\n",
       "<style scoped>\n",
       "    .dataframe tbody tr th:only-of-type {\n",
       "        vertical-align: middle;\n",
       "    }\n",
       "\n",
       "    .dataframe tbody tr th {\n",
       "        vertical-align: top;\n",
       "    }\n",
       "\n",
       "    .dataframe thead th {\n",
       "        text-align: right;\n",
       "    }\n",
       "</style>\n",
       "<table border=\"1\" class=\"dataframe\">\n",
       "  <thead>\n",
       "    <tr style=\"text-align: right;\">\n",
       "      <th></th>\n",
       "      <th>premise</th>\n",
       "      <th>hypothesis</th>\n",
       "      <th>label</th>\n",
       "      <th>idx</th>\n",
       "      <th>original_hypothesis</th>\n",
       "      <th>flags</th>\n",
       "      <th>original_words</th>\n",
       "      <th>inflected_words</th>\n",
       "    </tr>\n",
       "  </thead>\n",
       "  <tbody>\n",
       "    <tr>\n",
       "      <th>0</th>\n",
       "      <td>\"\"\"Решение носит символический характер, так к...</td>\n",
       "      <td>Взыскать компенсацию не получимся.</td>\n",
       "      <td>entailment</td>\n",
       "      <td>0</td>\n",
       "      <td>Взыскать компенсацию не получимся.</td>\n",
       "      <td>False</td>\n",
       "      <td>None</td>\n",
       "      <td>None</td>\n",
       "    </tr>\n",
       "    <tr>\n",
       "      <th>1</th>\n",
       "      <td>Об этом вечером во вторник, 17 января, сообщил...</td>\n",
       "      <td>На улице Кеэвисе жителей эвакуировали из-за мины.</td>\n",
       "      <td>entailment</td>\n",
       "      <td>1</td>\n",
       "      <td>На улице Кеэвисе жителей эвакуировались из-за ...</td>\n",
       "      <td>True</td>\n",
       "      <td>эвакуировались</td>\n",
       "      <td>эвакуировали</td>\n",
       "    </tr>\n",
       "    <tr>\n",
       "      <th>2</th>\n",
       "      <td>\"В суде Центрального района Сочи завершилось р...</td>\n",
       "      <td>81-летний нетрудоспособный застрелил обидчика ...</td>\n",
       "      <td>entailment</td>\n",
       "      <td>2</td>\n",
       "      <td>81-летний иждивенец застрелил обидчика дочери.</td>\n",
       "      <td>True</td>\n",
       "      <td>иждивенец</td>\n",
       "      <td>нетрудоспособный</td>\n",
       "    </tr>\n",
       "    <tr>\n",
       "      <th>3</th>\n",
       "      <td>\"Кто-то нарисовал на снегу контур человеческог...</td>\n",
       "      <td>Кто-то нарисовал на снегу контур человечества ...</td>\n",
       "      <td>entailment</td>\n",
       "      <td>3</td>\n",
       "      <td>Кто-то изобразил на снегу контур человечества ...</td>\n",
       "      <td>True</td>\n",
       "      <td>изобразил</td>\n",
       "      <td>нарисовал</td>\n",
       "    </tr>\n",
       "    <tr>\n",
       "      <th>4</th>\n",
       "      <td>Также установлено, что работники учреждения не...</td>\n",
       "      <td>В десткие садике не все вовремя проходят медос...</td>\n",
       "      <td>entailment</td>\n",
       "      <td>4</td>\n",
       "      <td>В детском садике не все вовремя проходят медос...</td>\n",
       "      <td>True</td>\n",
       "      <td>детском</td>\n",
       "      <td>десткие</td>\n",
       "    </tr>\n",
       "    <tr>\n",
       "      <th>...</th>\n",
       "      <td>...</td>\n",
       "      <td>...</td>\n",
       "      <td>...</td>\n",
       "      <td>...</td>\n",
       "      <td>...</td>\n",
       "      <td>...</td>\n",
       "      <td>...</td>\n",
       "      <td>...</td>\n",
       "    </tr>\n",
       "    <tr>\n",
       "      <th>302</th>\n",
       "      <td>Грабитель поджидал своих жертв и, угрожая им п...</td>\n",
       "      <td>У бандита был револьвер.</td>\n",
       "      <td>entailment</td>\n",
       "      <td>302</td>\n",
       "      <td>У бандита был пистолет.</td>\n",
       "      <td>True</td>\n",
       "      <td>пистолет</td>\n",
       "      <td>револьвер</td>\n",
       "    </tr>\n",
       "    <tr>\n",
       "      <th>303</th>\n",
       "      <td>Во время обыска в квартире подозреваемого поли...</td>\n",
       "      <td>С сентября прошлого года подозреваемый был на ...</td>\n",
       "      <td>entailment</td>\n",
       "      <td>303</td>\n",
       "      <td>С октября прошлого года подозреваемый был на с...</td>\n",
       "      <td>True</td>\n",
       "      <td>октября</td>\n",
       "      <td>сентября</td>\n",
       "    </tr>\n",
       "    <tr>\n",
       "      <th>304</th>\n",
       "      <td>\"\"\"После инцидента 15 августа 2011 г. ко мне п...</td>\n",
       "      <td>береговой не делал видеозапись.</td>\n",
       "      <td>not_entailment</td>\n",
       "      <td>304</td>\n",
       "      <td>береговой не сделал видеозапись.</td>\n",
       "      <td>True</td>\n",
       "      <td>сделал</td>\n",
       "      <td>делал</td>\n",
       "    </tr>\n",
       "    <tr>\n",
       "      <th>305</th>\n",
       "      <td>Сыграло ли это событие роль в решении обвиняем...</td>\n",
       "      <td>Дивенни мог работать на иностранную разведоват...</td>\n",
       "      <td>entailment</td>\n",
       "      <td>305</td>\n",
       "      <td>Дивенни мог работать на иностранную разведыват...</td>\n",
       "      <td>True</td>\n",
       "      <td>разведывательную</td>\n",
       "      <td>разведовательную</td>\n",
       "    </tr>\n",
       "    <tr>\n",
       "      <th>306</th>\n",
       "      <td>Оказалось, вспыхнула однокомнатная квартира. В...</td>\n",
       "      <td>Мужчина пришел в чувство и скончался.</td>\n",
       "      <td>not_entailment</td>\n",
       "      <td>306</td>\n",
       "      <td>Мужчина пришел в чувство и умер.</td>\n",
       "      <td>True</td>\n",
       "      <td>умер</td>\n",
       "      <td>скончался</td>\n",
       "    </tr>\n",
       "  </tbody>\n",
       "</table>\n",
       "<p>307 rows × 8 columns</p>\n",
       "</div>"
      ],
      "text/plain": [
       "                                               premise  \\\n",
       "0    \"\"\"Решение носит символический характер, так к...   \n",
       "1    Об этом вечером во вторник, 17 января, сообщил...   \n",
       "2    \"В суде Центрального района Сочи завершилось р...   \n",
       "3    \"Кто-то нарисовал на снегу контур человеческог...   \n",
       "4    Также установлено, что работники учреждения не...   \n",
       "..                                                 ...   \n",
       "302  Грабитель поджидал своих жертв и, угрожая им п...   \n",
       "303  Во время обыска в квартире подозреваемого поли...   \n",
       "304  \"\"\"После инцидента 15 августа 2011 г. ко мне п...   \n",
       "305  Сыграло ли это событие роль в решении обвиняем...   \n",
       "306  Оказалось, вспыхнула однокомнатная квартира. В...   \n",
       "\n",
       "                                            hypothesis           label  idx  \\\n",
       "0                   Взыскать компенсацию не получимся.      entailment    0   \n",
       "1    На улице Кеэвисе жителей эвакуировали из-за мины.      entailment    1   \n",
       "2    81-летний нетрудоспособный застрелил обидчика ...      entailment    2   \n",
       "3    Кто-то нарисовал на снегу контур человечества ...      entailment    3   \n",
       "4    В десткие садике не все вовремя проходят медос...      entailment    4   \n",
       "..                                                 ...             ...  ...   \n",
       "302                           У бандита был револьвер.      entailment  302   \n",
       "303  С сентября прошлого года подозреваемый был на ...      entailment  303   \n",
       "304                    береговой не делал видеозапись.  not_entailment  304   \n",
       "305  Дивенни мог работать на иностранную разведоват...      entailment  305   \n",
       "306              Мужчина пришел в чувство и скончался.  not_entailment  306   \n",
       "\n",
       "                                   original_hypothesis  flags  \\\n",
       "0                   Взыскать компенсацию не получимся.  False   \n",
       "1    На улице Кеэвисе жителей эвакуировались из-за ...   True   \n",
       "2       81-летний иждивенец застрелил обидчика дочери.   True   \n",
       "3    Кто-то изобразил на снегу контур человечества ...   True   \n",
       "4    В детском садике не все вовремя проходят медос...   True   \n",
       "..                                                 ...    ...   \n",
       "302                            У бандита был пистолет.   True   \n",
       "303  С октября прошлого года подозреваемый был на с...   True   \n",
       "304                   береговой не сделал видеозапись.   True   \n",
       "305  Дивенни мог работать на иностранную разведыват...   True   \n",
       "306                   Мужчина пришел в чувство и умер.   True   \n",
       "\n",
       "       original_words   inflected_words  \n",
       "0                None              None  \n",
       "1      эвакуировались      эвакуировали  \n",
       "2           иждивенец  нетрудоспособный  \n",
       "3           изобразил         нарисовал  \n",
       "4             детском           десткие  \n",
       "..                ...               ...  \n",
       "302          пистолет         револьвер  \n",
       "303           октября          сентября  \n",
       "304            сделал             делал  \n",
       "305  разведывательную  разведовательную  \n",
       "306              умер         скончался  \n",
       "\n",
       "[307 rows x 8 columns]"
      ]
     },
     "execution_count": 367,
     "metadata": {},
     "output_type": "execute_result"
    }
   ],
   "source": [
    "val_df"
   ]
  },
  {
   "cell_type": "code",
   "execution_count": 368,
   "metadata": {},
   "outputs": [],
   "source": [
    "val_df.to_csv('attack11_val.csv', index=False)"
   ]
  },
  {
   "cell_type": "code",
   "execution_count": 369,
   "metadata": {},
   "outputs": [],
   "source": [
    "new_val = pd.read_csv('new_val.csv')"
   ]
  },
  {
   "cell_type": "code",
   "execution_count": 370,
   "metadata": {},
   "outputs": [
    {
     "data": {
      "application/vnd.jupyter.widget-view+json": {
       "model_id": "4e2ac4b923c941feb2b7e17807740f9a",
       "version_major": 2,
       "version_minor": 0
      },
      "text/plain": [
       "  0%|          | 0/923 [00:00<?, ?it/s]"
      ]
     },
     "metadata": {},
     "output_type": "display_data"
    }
   ],
   "source": [
    "attacked_data = []\n",
    "flags = []\n",
    "original_words = []\n",
    "inflected_words = []\n",
    "\n",
    "for i in tqdm(new_val['hypothesis']):\n",
    "    sentence, flag, original_word, inflected_word = synonym_attack(i)\n",
    "    attacked_data.append(sentence)\n",
    "    flags.append(flag)\n",
    "    original_words.append(original_word)\n",
    "    inflected_words.append(inflected_word)"
   ]
  },
  {
   "cell_type": "code",
   "execution_count": 371,
   "metadata": {},
   "outputs": [
    {
     "data": {
      "text/plain": [
       "902"
      ]
     },
     "execution_count": 371,
     "metadata": {},
     "output_type": "execute_result"
    }
   ],
   "source": [
    "sum(flags)"
   ]
  },
  {
   "cell_type": "code",
   "execution_count": 372,
   "metadata": {},
   "outputs": [],
   "source": [
    "new_val['original_hypothesis'] = new_val['hypothesis']\n",
    "new_val['hypothesis'] = attacked_data\n",
    "new_val['flags'] = flags\n",
    "new_val['original_words'] = original_words\n",
    "new_val['inflected_words'] = inflected_words"
   ]
  },
  {
   "cell_type": "code",
   "execution_count": 373,
   "metadata": {},
   "outputs": [],
   "source": [
    "new_val.to_csv('attack11_new_val.csv', index=False)"
   ]
  },
  {
   "cell_type": "code",
   "execution_count": null,
   "metadata": {},
   "outputs": [],
   "source": []
  },
  {
   "cell_type": "code",
   "execution_count": null,
   "metadata": {},
   "outputs": [],
   "source": []
  },
  {
   "cell_type": "code",
   "execution_count": 276,
   "metadata": {},
   "outputs": [],
   "source": [
    "m.parse('гуляю')[0].inflect({'plur', 'femn'})"
   ]
  },
  {
   "cell_type": "code",
   "execution_count": 269,
   "metadata": {},
   "outputs": [
    {
     "data": {
      "text/plain": [
       "Parse(word='гуляла', tag=OpencorporaTag('VERB,impf,intr femn,sing,past,indc'), normal_form='гулять', score=1.0, methods_stack=((DictionaryAnalyzer(), 'гуляла', 15, 8),))"
      ]
     },
     "execution_count": 269,
     "metadata": {},
     "output_type": "execute_result"
    }
   ],
   "source": [
    "m.parse('гулял')[0].inflect({'femn'})"
   ]
  },
  {
   "cell_type": "code",
   "execution_count": null,
   "metadata": {},
   "outputs": [],
   "source": [
    "if past:\n",
    "    change gender "
   ]
  },
  {
   "cell_type": "code",
   "execution_count": null,
   "metadata": {},
   "outputs": [],
   "source": []
  }
 ],
 "metadata": {
  "kernelspec": {
   "display_name": "Python 3",
   "language": "python",
   "name": "python3"
  },
  "language_info": {
   "codemirror_mode": {
    "name": "ipython",
    "version": 3
   },
   "file_extension": ".py",
   "mimetype": "text/x-python",
   "name": "python",
   "nbconvert_exporter": "python",
   "pygments_lexer": "ipython3",
   "version": "3.8.5"
  }
 },
 "nbformat": 4,
 "nbformat_minor": 4
}
