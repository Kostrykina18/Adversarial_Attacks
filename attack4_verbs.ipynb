{
 "cells": [
  {
   "cell_type": "code",
   "execution_count": null,
   "metadata": {},
   "outputs": [],
   "source": [
    "!pip install jsonlines\n",
    "!pip install pymorphy2"
   ]
  },
  {
   "cell_type": "code",
   "execution_count": 1,
   "metadata": {},
   "outputs": [
    {
     "name": "stderr",
     "output_type": "stream",
     "text": [
      "[nltk_data] Downloading package punkt to\n",
      "[nltk_data]     /Users/ekostrykina/nltk_data...\n",
      "[nltk_data]   Package punkt is already up-to-date!\n"
     ]
    }
   ],
   "source": [
    "import pandas as pd\n",
    "import jsonlines\n",
    "import string\n",
    "import re\n",
    "\n",
    "import glob\n",
    "import io\n",
    "import os\n",
    "import random\n",
    "\n",
    "import pymorphy2\n",
    "m = pymorphy2.MorphAnalyzer()\n",
    "\n",
    "import nltk\n",
    "nltk.download('punkt')\n",
    "from nltk.tokenize import word_tokenize\n",
    "\n",
    "import string\n",
    "from string import punctuation\n",
    "\n",
    "from tqdm.notebook import tqdm"
   ]
  },
  {
   "cell_type": "code",
   "execution_count": 2,
   "metadata": {},
   "outputs": [],
   "source": [
    "def get_data(filename):\n",
    "    data = []\n",
    "    with jsonlines.open(f'TERRa/{filename}.jsonl') as reader:\n",
    "        for obj in reader:\n",
    "            data.append(obj)\n",
    "    return pd.DataFrame(data)"
   ]
  },
  {
   "cell_type": "code",
   "execution_count": 3,
   "metadata": {},
   "outputs": [],
   "source": [
    "val_df = get_data('val')"
   ]
  },
  {
   "cell_type": "code",
   "execution_count": 4,
   "metadata": {
    "scrolled": false
   },
   "outputs": [
    {
     "data": {
      "text/html": [
       "<div>\n",
       "<style scoped>\n",
       "    .dataframe tbody tr th:only-of-type {\n",
       "        vertical-align: middle;\n",
       "    }\n",
       "\n",
       "    .dataframe tbody tr th {\n",
       "        vertical-align: top;\n",
       "    }\n",
       "\n",
       "    .dataframe thead th {\n",
       "        text-align: right;\n",
       "    }\n",
       "</style>\n",
       "<table border=\"1\" class=\"dataframe\">\n",
       "  <thead>\n",
       "    <tr style=\"text-align: right;\">\n",
       "      <th></th>\n",
       "      <th>premise</th>\n",
       "      <th>hypothesis</th>\n",
       "      <th>label</th>\n",
       "      <th>idx</th>\n",
       "    </tr>\n",
       "  </thead>\n",
       "  <tbody>\n",
       "    <tr>\n",
       "      <th>0</th>\n",
       "      <td>\"\"\"Решение носит символический характер, так к...</td>\n",
       "      <td>Взыскать компенсацию не получится.</td>\n",
       "      <td>entailment</td>\n",
       "      <td>0</td>\n",
       "    </tr>\n",
       "    <tr>\n",
       "      <th>1</th>\n",
       "      <td>Об этом вечером во вторник, 17 января, сообщил...</td>\n",
       "      <td>На улице Кеэвисе жителей эвакуировали из-за мины.</td>\n",
       "      <td>entailment</td>\n",
       "      <td>1</td>\n",
       "    </tr>\n",
       "    <tr>\n",
       "      <th>2</th>\n",
       "      <td>\"В суде Центрального района Сочи завершилось р...</td>\n",
       "      <td>81-летний пенсионер застрелил обидчика дочери.</td>\n",
       "      <td>entailment</td>\n",
       "      <td>2</td>\n",
       "    </tr>\n",
       "    <tr>\n",
       "      <th>3</th>\n",
       "      <td>\"Кто-то нарисовал на снегу контур человеческог...</td>\n",
       "      <td>Кто-то изобразил на снегу контур человеческого...</td>\n",
       "      <td>entailment</td>\n",
       "      <td>3</td>\n",
       "    </tr>\n",
       "    <tr>\n",
       "      <th>4</th>\n",
       "      <td>Также установлено, что работники учреждения не...</td>\n",
       "      <td>В детском саду не все вовремя проходят медосмотр.</td>\n",
       "      <td>entailment</td>\n",
       "      <td>4</td>\n",
       "    </tr>\n",
       "    <tr>\n",
       "      <th>...</th>\n",
       "      <td>...</td>\n",
       "      <td>...</td>\n",
       "      <td>...</td>\n",
       "      <td>...</td>\n",
       "    </tr>\n",
       "    <tr>\n",
       "      <th>302</th>\n",
       "      <td>Грабитель поджидал своих жертв и, угрожая им п...</td>\n",
       "      <td>У грабителя был пистолет.</td>\n",
       "      <td>entailment</td>\n",
       "      <td>302</td>\n",
       "    </tr>\n",
       "    <tr>\n",
       "      <th>303</th>\n",
       "      <td>Во время обыска в квартире подозреваемого поли...</td>\n",
       "      <td>С ноября прошлого года подозреваемый был на св...</td>\n",
       "      <td>entailment</td>\n",
       "      <td>303</td>\n",
       "    </tr>\n",
       "    <tr>\n",
       "      <th>304</th>\n",
       "      <td>\"\"\"После инцидента 15 августа 2011 г. ко мне п...</td>\n",
       "      <td>Береговой не сделал видеозапись.</td>\n",
       "      <td>not_entailment</td>\n",
       "      <td>304</td>\n",
       "    </tr>\n",
       "    <tr>\n",
       "      <th>305</th>\n",
       "      <td>Сыграло ли это событие роль в решении обвиняем...</td>\n",
       "      <td>Дивенни мог работать на иностранную разведку.</td>\n",
       "      <td>entailment</td>\n",
       "      <td>305</td>\n",
       "    </tr>\n",
       "    <tr>\n",
       "      <th>306</th>\n",
       "      <td>Оказалось, вспыхнула однокомнатная квартира. В...</td>\n",
       "      <td>Мужчина пришел в сознание и умер.</td>\n",
       "      <td>not_entailment</td>\n",
       "      <td>306</td>\n",
       "    </tr>\n",
       "  </tbody>\n",
       "</table>\n",
       "<p>307 rows × 4 columns</p>\n",
       "</div>"
      ],
      "text/plain": [
       "                                               premise  \\\n",
       "0    \"\"\"Решение носит символический характер, так к...   \n",
       "1    Об этом вечером во вторник, 17 января, сообщил...   \n",
       "2    \"В суде Центрального района Сочи завершилось р...   \n",
       "3    \"Кто-то нарисовал на снегу контур человеческог...   \n",
       "4    Также установлено, что работники учреждения не...   \n",
       "..                                                 ...   \n",
       "302  Грабитель поджидал своих жертв и, угрожая им п...   \n",
       "303  Во время обыска в квартире подозреваемого поли...   \n",
       "304  \"\"\"После инцидента 15 августа 2011 г. ко мне п...   \n",
       "305  Сыграло ли это событие роль в решении обвиняем...   \n",
       "306  Оказалось, вспыхнула однокомнатная квартира. В...   \n",
       "\n",
       "                                            hypothesis           label  idx  \n",
       "0                   Взыскать компенсацию не получится.      entailment    0  \n",
       "1    На улице Кеэвисе жителей эвакуировали из-за мины.      entailment    1  \n",
       "2       81-летний пенсионер застрелил обидчика дочери.      entailment    2  \n",
       "3    Кто-то изобразил на снегу контур человеческого...      entailment    3  \n",
       "4    В детском саду не все вовремя проходят медосмотр.      entailment    4  \n",
       "..                                                 ...             ...  ...  \n",
       "302                          У грабителя был пистолет.      entailment  302  \n",
       "303  С ноября прошлого года подозреваемый был на св...      entailment  303  \n",
       "304                   Береговой не сделал видеозапись.  not_entailment  304  \n",
       "305      Дивенни мог работать на иностранную разведку.      entailment  305  \n",
       "306                  Мужчина пришел в сознание и умер.  not_entailment  306  \n",
       "\n",
       "[307 rows x 4 columns]"
      ]
     },
     "execution_count": 4,
     "metadata": {},
     "output_type": "execute_result"
    }
   ],
   "source": [
    "val_df"
   ]
  },
  {
   "cell_type": "code",
   "execution_count": null,
   "metadata": {},
   "outputs": [],
   "source": [
    "cases = set(['nomn', # именительный\n",
    "         'gent', # родительный\n",
    "         'datv', # дательный\n",
    "         'accs', # винительный\n",
    "         'ablt', # творительный\n",
    "         'loct' # предложный\n",
    "         ])"
   ]
  },
  {
   "cell_type": "code",
   "execution_count": 13,
   "metadata": {},
   "outputs": [],
   "source": [
    "tenses = set(['past', 'pres', 'futr'])"
   ]
  },
  {
   "cell_type": "code",
   "execution_count": 65,
   "metadata": {},
   "outputs": [],
   "source": [
    "def inflect_verb(sentence):\n",
    "    text = word_tokenize(sentence)\n",
    "    for idx, word in enumerate(text):\n",
    "        ok = True\n",
    "        parsed_word = m.parse(word)[0]\n",
    "        if parsed_word.tag.POS == 'VERB':\n",
    "            original_tense = parsed_word[1].tense       \n",
    "            tenses_available = tenses.copy()\n",
    "            try:\n",
    "                tenses_available.remove(original_tense)\n",
    "            except:\n",
    "                continue\n",
    "\n",
    "            tense_to_inflect = random.choice(list(tenses_available))\n",
    "            tenses_available.remove(tense_to_inflect)\n",
    "            inflected_word = parsed_word.inflect({tense_to_inflect})\n",
    "            try:\n",
    "                inflected_word = inflected_word.word\n",
    "            except:\n",
    "                ok = False\n",
    "                pass\n",
    "            \n",
    "            while parsed_word.word == inflected_word and len(tenses_available) > 0:\n",
    "                tense_to_inflect = random.choice(list(tenses_available))\n",
    "                tenses_available.remove(tense_to_inflect)\n",
    "\n",
    "                inflected_word = parsed_word.inflect({tense_to_inflect})\n",
    "                try:\n",
    "                    inflected_word = inflected_word.word  \n",
    "                except:\n",
    "                    ok = False\n",
    "                    pass\n",
    "\n",
    "            if ok == True:\n",
    "                original_word = text[idx]\n",
    "                text[idx] = inflected_word\n",
    "                text = ' '.join(text)\n",
    "                # удаляем лишние пробелы\n",
    "                pat = \"\\s+([{}]+)\".format(re.escape(string.punctuation))\n",
    "                output_text = re.sub(\"\\s{2,}\", \" \", re.sub(pat, r\"\\1\", text))\n",
    "                return output_text, True, original_word, inflected_word           \n",
    "        \n",
    "    return sentence, False, None, None"
   ]
  },
  {
   "cell_type": "code",
   "execution_count": 19,
   "metadata": {},
   "outputs": [
    {
     "data": {
      "text/plain": [
       "('падаю', True, 'падал', 'падаю')"
      ]
     },
     "execution_count": 19,
     "metadata": {},
     "output_type": "execute_result"
    }
   ],
   "source": [
    "inflect_verb('падал')"
   ]
  },
  {
   "cell_type": "code",
   "execution_count": 22,
   "metadata": {},
   "outputs": [
    {
     "data": {
      "text/plain": [
       "('падал', True, 'падает', 'падал')"
      ]
     },
     "execution_count": 22,
     "metadata": {},
     "output_type": "execute_result"
    }
   ],
   "source": [
    "inflect_verb('падает')"
   ]
  },
  {
   "cell_type": "code",
   "execution_count": 47,
   "metadata": {},
   "outputs": [
    {
     "name": "stdout",
     "output_type": "stream",
     "text": [
      "падает futr\n",
      "купается past\n"
     ]
    },
    {
     "data": {
      "text/plain": [
       "('падает, купался', True, 'купается', 'купался')"
      ]
     },
     "execution_count": 47,
     "metadata": {},
     "output_type": "execute_result"
    }
   ],
   "source": [
    "inflect_verb('падает, купается')"
   ]
  },
  {
   "cell_type": "code",
   "execution_count": 66,
   "metadata": {},
   "outputs": [
    {
     "data": {
      "application/vnd.jupyter.widget-view+json": {
       "model_id": "3e15eadbc286448ea286d4e71d07a256",
       "version_major": 2,
       "version_minor": 0
      },
      "text/plain": [
       "  0%|          | 0/307 [00:00<?, ?it/s]"
      ]
     },
     "metadata": {},
     "output_type": "display_data"
    }
   ],
   "source": [
    "attacked_data = []\n",
    "flags = []\n",
    "original_words = []\n",
    "inflected_words = []\n",
    "\n",
    "for i in tqdm(val_df['hypothesis']):\n",
    "    sentence, flag, original_word, inflected_word = inflect_verb(i)\n",
    "    attacked_data.append(sentence)\n",
    "    flags.append(flag)\n",
    "    original_words.append(original_word)\n",
    "    inflected_words.append(inflected_word)"
   ]
  },
  {
   "cell_type": "code",
   "execution_count": 68,
   "metadata": {},
   "outputs": [],
   "source": [
    "val_df['original_hypothesis'] = val_df['hypothesis']\n",
    "val_df['hypothesis'] = attacked_data\n",
    "val_df['flags'] = flags\n",
    "val_df['original_words'] = original_words\n",
    "val_df['inflected_words'] = inflected_words"
   ]
  },
  {
   "cell_type": "code",
   "execution_count": 69,
   "metadata": {},
   "outputs": [
    {
     "data": {
      "text/html": [
       "<div>\n",
       "<style scoped>\n",
       "    .dataframe tbody tr th:only-of-type {\n",
       "        vertical-align: middle;\n",
       "    }\n",
       "\n",
       "    .dataframe tbody tr th {\n",
       "        vertical-align: top;\n",
       "    }\n",
       "\n",
       "    .dataframe thead th {\n",
       "        text-align: right;\n",
       "    }\n",
       "</style>\n",
       "<table border=\"1\" class=\"dataframe\">\n",
       "  <thead>\n",
       "    <tr style=\"text-align: right;\">\n",
       "      <th></th>\n",
       "      <th>premise</th>\n",
       "      <th>hypothesis</th>\n",
       "      <th>label</th>\n",
       "      <th>idx</th>\n",
       "      <th>original_hypothesis</th>\n",
       "      <th>flags</th>\n",
       "      <th>original_words</th>\n",
       "      <th>inflected_words</th>\n",
       "    </tr>\n",
       "  </thead>\n",
       "  <tbody>\n",
       "    <tr>\n",
       "      <th>0</th>\n",
       "      <td>\"\"\"Решение носит символический характер, так к...</td>\n",
       "      <td>Взыскать компенсацию не получится.</td>\n",
       "      <td>entailment</td>\n",
       "      <td>0</td>\n",
       "      <td>Взыскать компенсацию не получится.</td>\n",
       "      <td>False</td>\n",
       "      <td>None</td>\n",
       "      <td>None</td>\n",
       "    </tr>\n",
       "    <tr>\n",
       "      <th>1</th>\n",
       "      <td>Об этом вечером во вторник, 17 января, сообщил...</td>\n",
       "      <td>На улице Кеэвисе жителей эвакуируем из-за мины.</td>\n",
       "      <td>entailment</td>\n",
       "      <td>1</td>\n",
       "      <td>На улице Кеэвисе жителей эвакуировали из-за мины.</td>\n",
       "      <td>True</td>\n",
       "      <td>эвакуировали</td>\n",
       "      <td>эвакуируем</td>\n",
       "    </tr>\n",
       "    <tr>\n",
       "      <th>2</th>\n",
       "      <td>\"В суде Центрального района Сочи завершилось р...</td>\n",
       "      <td>81-летний пенсионер застрелил обидчика дочери.</td>\n",
       "      <td>entailment</td>\n",
       "      <td>2</td>\n",
       "      <td>81-летний пенсионер застрелил обидчика дочери.</td>\n",
       "      <td>False</td>\n",
       "      <td>None</td>\n",
       "      <td>None</td>\n",
       "    </tr>\n",
       "    <tr>\n",
       "      <th>3</th>\n",
       "      <td>\"Кто-то нарисовал на снегу контур человеческог...</td>\n",
       "      <td>Кто-то изобразил на снегу контур человеческого...</td>\n",
       "      <td>entailment</td>\n",
       "      <td>3</td>\n",
       "      <td>Кто-то изобразил на снегу контур человеческого...</td>\n",
       "      <td>False</td>\n",
       "      <td>None</td>\n",
       "      <td>None</td>\n",
       "    </tr>\n",
       "    <tr>\n",
       "      <th>4</th>\n",
       "      <td>Также установлено, что работники учреждения не...</td>\n",
       "      <td>В детском саду не все вовремя проходят медосмотр.</td>\n",
       "      <td>entailment</td>\n",
       "      <td>4</td>\n",
       "      <td>В детском саду не все вовремя проходят медосмотр.</td>\n",
       "      <td>False</td>\n",
       "      <td>None</td>\n",
       "      <td>None</td>\n",
       "    </tr>\n",
       "    <tr>\n",
       "      <th>...</th>\n",
       "      <td>...</td>\n",
       "      <td>...</td>\n",
       "      <td>...</td>\n",
       "      <td>...</td>\n",
       "      <td>...</td>\n",
       "      <td>...</td>\n",
       "      <td>...</td>\n",
       "      <td>...</td>\n",
       "    </tr>\n",
       "    <tr>\n",
       "      <th>302</th>\n",
       "      <td>Грабитель поджидал своих жертв и, угрожая им п...</td>\n",
       "      <td>У грабителя есть пистолет.</td>\n",
       "      <td>entailment</td>\n",
       "      <td>302</td>\n",
       "      <td>У грабителя был пистолет.</td>\n",
       "      <td>True</td>\n",
       "      <td>был</td>\n",
       "      <td>есть</td>\n",
       "    </tr>\n",
       "    <tr>\n",
       "      <th>303</th>\n",
       "      <td>Во время обыска в квартире подозреваемого поли...</td>\n",
       "      <td>С ноября прошлого года подозреваемый есть на с...</td>\n",
       "      <td>entailment</td>\n",
       "      <td>303</td>\n",
       "      <td>С ноября прошлого года подозреваемый был на св...</td>\n",
       "      <td>True</td>\n",
       "      <td>был</td>\n",
       "      <td>есть</td>\n",
       "    </tr>\n",
       "    <tr>\n",
       "      <th>304</th>\n",
       "      <td>\"\"\"После инцидента 15 августа 2011 г. ко мне п...</td>\n",
       "      <td>Береговой не сделаю видеозапись.</td>\n",
       "      <td>not_entailment</td>\n",
       "      <td>304</td>\n",
       "      <td>Береговой не сделал видеозапись.</td>\n",
       "      <td>True</td>\n",
       "      <td>сделал</td>\n",
       "      <td>сделаю</td>\n",
       "    </tr>\n",
       "    <tr>\n",
       "      <th>305</th>\n",
       "      <td>Сыграло ли это событие роль в решении обвиняем...</td>\n",
       "      <td>Дивенни могу работать на иностранную разведку.</td>\n",
       "      <td>entailment</td>\n",
       "      <td>305</td>\n",
       "      <td>Дивенни мог работать на иностранную разведку.</td>\n",
       "      <td>True</td>\n",
       "      <td>мог</td>\n",
       "      <td>могу</td>\n",
       "    </tr>\n",
       "    <tr>\n",
       "      <th>306</th>\n",
       "      <td>Оказалось, вспыхнула однокомнатная квартира. В...</td>\n",
       "      <td>Мужчина приду в сознание и умер.</td>\n",
       "      <td>not_entailment</td>\n",
       "      <td>306</td>\n",
       "      <td>Мужчина пришел в сознание и умер.</td>\n",
       "      <td>True</td>\n",
       "      <td>пришел</td>\n",
       "      <td>приду</td>\n",
       "    </tr>\n",
       "  </tbody>\n",
       "</table>\n",
       "<p>307 rows × 8 columns</p>\n",
       "</div>"
      ],
      "text/plain": [
       "                                               premise  \\\n",
       "0    \"\"\"Решение носит символический характер, так к...   \n",
       "1    Об этом вечером во вторник, 17 января, сообщил...   \n",
       "2    \"В суде Центрального района Сочи завершилось р...   \n",
       "3    \"Кто-то нарисовал на снегу контур человеческог...   \n",
       "4    Также установлено, что работники учреждения не...   \n",
       "..                                                 ...   \n",
       "302  Грабитель поджидал своих жертв и, угрожая им п...   \n",
       "303  Во время обыска в квартире подозреваемого поли...   \n",
       "304  \"\"\"После инцидента 15 августа 2011 г. ко мне п...   \n",
       "305  Сыграло ли это событие роль в решении обвиняем...   \n",
       "306  Оказалось, вспыхнула однокомнатная квартира. В...   \n",
       "\n",
       "                                            hypothesis           label  idx  \\\n",
       "0                   Взыскать компенсацию не получится.      entailment    0   \n",
       "1      На улице Кеэвисе жителей эвакуируем из-за мины.      entailment    1   \n",
       "2       81-летний пенсионер застрелил обидчика дочери.      entailment    2   \n",
       "3    Кто-то изобразил на снегу контур человеческого...      entailment    3   \n",
       "4    В детском саду не все вовремя проходят медосмотр.      entailment    4   \n",
       "..                                                 ...             ...  ...   \n",
       "302                         У грабителя есть пистолет.      entailment  302   \n",
       "303  С ноября прошлого года подозреваемый есть на с...      entailment  303   \n",
       "304                   Береговой не сделаю видеозапись.  not_entailment  304   \n",
       "305     Дивенни могу работать на иностранную разведку.      entailment  305   \n",
       "306                   Мужчина приду в сознание и умер.  not_entailment  306   \n",
       "\n",
       "                                   original_hypothesis  flags original_words  \\\n",
       "0                   Взыскать компенсацию не получится.  False           None   \n",
       "1    На улице Кеэвисе жителей эвакуировали из-за мины.   True   эвакуировали   \n",
       "2       81-летний пенсионер застрелил обидчика дочери.  False           None   \n",
       "3    Кто-то изобразил на снегу контур человеческого...  False           None   \n",
       "4    В детском саду не все вовремя проходят медосмотр.  False           None   \n",
       "..                                                 ...    ...            ...   \n",
       "302                          У грабителя был пистолет.   True            был   \n",
       "303  С ноября прошлого года подозреваемый был на св...   True            был   \n",
       "304                   Береговой не сделал видеозапись.   True         сделал   \n",
       "305      Дивенни мог работать на иностранную разведку.   True            мог   \n",
       "306                  Мужчина пришел в сознание и умер.   True         пришел   \n",
       "\n",
       "    inflected_words  \n",
       "0              None  \n",
       "1        эвакуируем  \n",
       "2              None  \n",
       "3              None  \n",
       "4              None  \n",
       "..              ...  \n",
       "302            есть  \n",
       "303            есть  \n",
       "304          сделаю  \n",
       "305            могу  \n",
       "306           приду  \n",
       "\n",
       "[307 rows x 8 columns]"
      ]
     },
     "execution_count": 69,
     "metadata": {},
     "output_type": "execute_result"
    }
   ],
   "source": [
    "val_df"
   ]
  },
  {
   "cell_type": "code",
   "execution_count": 70,
   "metadata": {},
   "outputs": [],
   "source": [
    "val_df.to_csv('attack4_val.csv', index=False)"
   ]
  }
 ],
 "metadata": {
  "kernelspec": {
   "display_name": "Python 3",
   "language": "python",
   "name": "python3"
  },
  "language_info": {
   "codemirror_mode": {
    "name": "ipython",
    "version": 3
   },
   "file_extension": ".py",
   "mimetype": "text/x-python",
   "name": "python",
   "nbconvert_exporter": "python",
   "pygments_lexer": "ipython3",
   "version": "3.8.5"
  }
 },
 "nbformat": 4,
 "nbformat_minor": 4
}
